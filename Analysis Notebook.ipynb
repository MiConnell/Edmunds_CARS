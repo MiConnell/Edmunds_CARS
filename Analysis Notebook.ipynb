{
 "nbformat": 4,
 "nbformat_minor": 2,
 "metadata": {
  "language_info": {
   "name": "python",
   "codemirror_mode": {
    "name": "ipython",
    "version": 3
   },
   "version": "3.7.6-final"
  },
  "orig_nbformat": 2,
  "file_extension": ".py",
  "mimetype": "text/x-python",
  "name": "python",
  "npconvert_exporter": "python",
  "pygments_lexer": "ipython3",
  "version": 3,
  "kernelspec": {
   "name": "04df6ea1-8e55-4421-bf87-6fad1eb9ccda",
   "display_name": "'Python Interactive'"
  }
 },
 "cells": [
  {
   "cell_type": "code",
   "execution_count": 1,
   "metadata": {},
   "outputs": [],
   "source": [
    "# import pandas library for data reading and analysis\n",
    "import pandas as pd\n",
    "# set option to exclude scientific notaion\n",
    "pd.set_option('display.float_format', lambda x: '%.5f' % x)"
   ]
  },
  {
   "cell_type": "code",
   "execution_count": 2,
   "metadata": {},
   "outputs": [],
   "source": [
    "# define datasets\n",
    "CARS_dataset = './Dataset.xlsx'\n",
    "population_dataset = './PopulationData_Cleaned.xlsx'\n",
    "emissions_dataset = './EmissionsData.xlsx'"
   ]
  },
  {
   "cell_type": "code",
   "execution_count": 3,
   "metadata": {},
   "outputs": [],
   "source": [
    "# read data to pandas dataframes\n",
    "edmunds_df = pd.read_excel(CARS_dataset)\n",
    "population_df = pd.read_excel(population_dataset, sheet_name='States')"
   ]
  },
  {
   "cell_type": "code",
   "execution_count": 4,
   "metadata": {},
   "outputs": [
    {
     "output_type": "execute_result",
     "data": {
      "text/plain": "   vendor_id            dealer_name         address_line1 address_line2  \\\n0          1  HUDIBURG MOTORS, INC.  5800 Tinker Diagonal           NaN   \n1          1  HUDIBURG MOTORS, INC.  5800 Tinker Diagonal           NaN   \n2          1  HUDIBURG MOTORS, INC.  5800 Tinker Diagonal           NaN   \n3          1  HUDIBURG MOTORS, INC.  5800 Tinker Diagonal           NaN   \n4          1  HUDIBURG MOTORS, INC.  5800 Tinker Diagonal           NaN   \n\n  address_line3 address_line4          city state    ZIP  area_code  ...  \\\n0           NaN           NaN  Midwest City    OK  73110        nan  ...   \n1           NaN           NaN  Midwest City    OK  73110        nan  ...   \n2           NaN           NaN  Midwest City    OK  73110        nan  ...   \n3           NaN           NaN  Midwest City    OK  73110        nan  ...   \n4           NaN           NaN  Midwest City    OK  73110        nan  ...   \n\n  trade_in_NMVTIS_flag  trade_in_odometer_reading new_vehicle_VIN_trunc  \\\n0                                          166000     1NXBU4EE7AZXXXXXX   \n1                                          231519     1NXBU40E49ZXXXXXX   \n2                                          130648     JTEDS41A592XXXXXX   \n3                                          178733     4T3ZK11A69UXXXXXX   \n4                                           93105     4T4BF3EK2ARXXXXXX   \n\n  new_vehicle_category new_vehicle_make new_vehicle_model  new_vehicle_year  \\\n0                    P           Toyota           Corolla              2010   \n1                    P           Toyota           Corolla              2009   \n2                    1           Toyota    Highlander 2WD              2009   \n3                    1           Toyota             Venza              2009   \n4                    P           Toyota             Camry              2010   \n\n                      new_vehicle_drive_train new_vehicle_car_mileage  \\\n0  1.8L, 4 cyl, Automatic 4-spd, FWD, Regular                      29   \n1  1.8L, 4 cyl, Automatic 4-spd, FWD, Regular                      30   \n2   3.5L, 6 cyl, Automatic (S5), FWD, Regular                      20   \n3   3.5L, 6 cyl, Automatic (S6), FWD, Regular                      22   \n4   2.5L, 4 cyl, Automatic (S6), FWD, Regular                      26   \n\n   new_vehicle_MSRP  \n0             17250  \n1             16750  \n2             27600  \n3             27800  \n4             21900  \n\n[5 rows x 42 columns]",
      "text/html": "<div>\n<style scoped>\n    .dataframe tbody tr th:only-of-type {\n        vertical-align: middle;\n    }\n\n    .dataframe tbody tr th {\n        vertical-align: top;\n    }\n\n    .dataframe thead th {\n        text-align: right;\n    }\n</style>\n<table border=\"1\" class=\"dataframe\">\n  <thead>\n    <tr style=\"text-align: right;\">\n      <th></th>\n      <th>vendor_id</th>\n      <th>dealer_name</th>\n      <th>address_line1</th>\n      <th>address_line2</th>\n      <th>address_line3</th>\n      <th>address_line4</th>\n      <th>city</th>\n      <th>state</th>\n      <th>ZIP</th>\n      <th>area_code</th>\n      <th>...</th>\n      <th>trade_in_NMVTIS_flag</th>\n      <th>trade_in_odometer_reading</th>\n      <th>new_vehicle_VIN_trunc</th>\n      <th>new_vehicle_category</th>\n      <th>new_vehicle_make</th>\n      <th>new_vehicle_model</th>\n      <th>new_vehicle_year</th>\n      <th>new_vehicle_drive_train</th>\n      <th>new_vehicle_car_mileage</th>\n      <th>new_vehicle_MSRP</th>\n    </tr>\n  </thead>\n  <tbody>\n    <tr>\n      <th>0</th>\n      <td>1</td>\n      <td>HUDIBURG MOTORS, INC.</td>\n      <td>5800 Tinker Diagonal</td>\n      <td>NaN</td>\n      <td>NaN</td>\n      <td>NaN</td>\n      <td>Midwest City</td>\n      <td>OK</td>\n      <td>73110</td>\n      <td>nan</td>\n      <td>...</td>\n      <td></td>\n      <td>166000</td>\n      <td>1NXBU4EE7AZXXXXXX</td>\n      <td>P</td>\n      <td>Toyota</td>\n      <td>Corolla</td>\n      <td>2010</td>\n      <td>1.8L, 4 cyl, Automatic 4-spd, FWD, Regular</td>\n      <td>29</td>\n      <td>17250</td>\n    </tr>\n    <tr>\n      <th>1</th>\n      <td>1</td>\n      <td>HUDIBURG MOTORS, INC.</td>\n      <td>5800 Tinker Diagonal</td>\n      <td>NaN</td>\n      <td>NaN</td>\n      <td>NaN</td>\n      <td>Midwest City</td>\n      <td>OK</td>\n      <td>73110</td>\n      <td>nan</td>\n      <td>...</td>\n      <td></td>\n      <td>231519</td>\n      <td>1NXBU40E49ZXXXXXX</td>\n      <td>P</td>\n      <td>Toyota</td>\n      <td>Corolla</td>\n      <td>2009</td>\n      <td>1.8L, 4 cyl, Automatic 4-spd, FWD, Regular</td>\n      <td>30</td>\n      <td>16750</td>\n    </tr>\n    <tr>\n      <th>2</th>\n      <td>1</td>\n      <td>HUDIBURG MOTORS, INC.</td>\n      <td>5800 Tinker Diagonal</td>\n      <td>NaN</td>\n      <td>NaN</td>\n      <td>NaN</td>\n      <td>Midwest City</td>\n      <td>OK</td>\n      <td>73110</td>\n      <td>nan</td>\n      <td>...</td>\n      <td></td>\n      <td>130648</td>\n      <td>JTEDS41A592XXXXXX</td>\n      <td>1</td>\n      <td>Toyota</td>\n      <td>Highlander 2WD</td>\n      <td>2009</td>\n      <td>3.5L, 6 cyl, Automatic (S5), FWD, Regular</td>\n      <td>20</td>\n      <td>27600</td>\n    </tr>\n    <tr>\n      <th>3</th>\n      <td>1</td>\n      <td>HUDIBURG MOTORS, INC.</td>\n      <td>5800 Tinker Diagonal</td>\n      <td>NaN</td>\n      <td>NaN</td>\n      <td>NaN</td>\n      <td>Midwest City</td>\n      <td>OK</td>\n      <td>73110</td>\n      <td>nan</td>\n      <td>...</td>\n      <td></td>\n      <td>178733</td>\n      <td>4T3ZK11A69UXXXXXX</td>\n      <td>1</td>\n      <td>Toyota</td>\n      <td>Venza</td>\n      <td>2009</td>\n      <td>3.5L, 6 cyl, Automatic (S6), FWD, Regular</td>\n      <td>22</td>\n      <td>27800</td>\n    </tr>\n    <tr>\n      <th>4</th>\n      <td>1</td>\n      <td>HUDIBURG MOTORS, INC.</td>\n      <td>5800 Tinker Diagonal</td>\n      <td>NaN</td>\n      <td>NaN</td>\n      <td>NaN</td>\n      <td>Midwest City</td>\n      <td>OK</td>\n      <td>73110</td>\n      <td>nan</td>\n      <td>...</td>\n      <td></td>\n      <td>93105</td>\n      <td>4T4BF3EK2ARXXXXXX</td>\n      <td>P</td>\n      <td>Toyota</td>\n      <td>Camry</td>\n      <td>2010</td>\n      <td>2.5L, 4 cyl, Automatic (S6), FWD, Regular</td>\n      <td>26</td>\n      <td>21900</td>\n    </tr>\n  </tbody>\n</table>\n<p>5 rows × 42 columns</p>\n</div>"
     },
     "metadata": {},
     "execution_count": 4
    }
   ],
   "source": [
    "# take a look at the dataframes to make sure they look okay\n",
    "# print the first five rows of each\n",
    "edmunds_df.head()"
   ]
  },
  {
   "cell_type": "code",
   "execution_count": 5,
   "metadata": {},
   "outputs": [
    {
     "output_type": "execute_result",
     "data": {
      "text/plain": "         State Abbreviation  Population(Thousands)\n0     Alabama            AL             4661.90000\n1      Alaska            AK              686.29300\n2     Arizona            AZ             6500.18000\n3    Arkansas            AR             2855.39000\n4  California            CA            36756.66600",
      "text/html": "<div>\n<style scoped>\n    .dataframe tbody tr th:only-of-type {\n        vertical-align: middle;\n    }\n\n    .dataframe tbody tr th {\n        vertical-align: top;\n    }\n\n    .dataframe thead th {\n        text-align: right;\n    }\n</style>\n<table border=\"1\" class=\"dataframe\">\n  <thead>\n    <tr style=\"text-align: right;\">\n      <th></th>\n      <th>State</th>\n      <th>Abbreviation</th>\n      <th>Population(Thousands)</th>\n    </tr>\n  </thead>\n  <tbody>\n    <tr>\n      <th>0</th>\n      <td>Alabama</td>\n      <td>AL</td>\n      <td>4661.90000</td>\n    </tr>\n    <tr>\n      <th>1</th>\n      <td>Alaska</td>\n      <td>AK</td>\n      <td>686.29300</td>\n    </tr>\n    <tr>\n      <th>2</th>\n      <td>Arizona</td>\n      <td>AZ</td>\n      <td>6500.18000</td>\n    </tr>\n    <tr>\n      <th>3</th>\n      <td>Arkansas</td>\n      <td>AR</td>\n      <td>2855.39000</td>\n    </tr>\n    <tr>\n      <th>4</th>\n      <td>California</td>\n      <td>CA</td>\n      <td>36756.66600</td>\n    </tr>\n  </tbody>\n</table>\n</div>"
     },
     "metadata": {},
     "execution_count": 5
    }
   ],
   "source": [
    "population_df.head()"
   ]
  },
  {
   "cell_type": "code",
   "execution_count": 7,
   "metadata": {},
   "outputs": [
    {
     "output_type": "execute_result",
     "data": {
      "text/plain": "         vendor_id        area_code    invoice_id  \\\ncount 677238.00000     577273.00000  677238.00000   \nmean    9784.11374    3377648.70672  652645.56461   \nstd     5900.13341  156320432.46229  296938.82981   \nmin        1.00000       -435.00000   10169.00000   \n25%     4935.00000        408.00000  424194.25000   \n50%     8949.00000        616.00000  670809.00000   \n75%    14271.00000        804.00000  908151.75000   \nmax    44833.00000 9312455210.00000 1143631.00000   \n\n       disposal_facility_nmvtis_id  invoice_amount  trade_in_year  \\\ncount                 639573.00000    677238.00000   677238.00000   \nmean                    3377.35766      4209.88190     1995.21298   \nstd                     1143.79112       453.81702        4.10580   \nmin                      360.00000      3500.00000     1984.00000   \n25%                     2426.00000      3500.00000     1993.00000   \n50%                     3424.00000      4500.00000     1996.00000   \n75%                     4282.00000      4500.00000     1998.00000   \nmax                     7912.00000      4500.00000     2008.00000   \n\n       trade_in_mileage  trade_in_odometer_reading  new_vehicle_year  \\\ncount      677238.00000               677238.00000      677238.00000   \nmean           15.69843               160155.18124        2009.21912   \nstd             2.23371               268353.46483           0.45130   \nmin             0.00000                    0.00000        2007.00000   \n25%            14.00000               113497.00000        2009.00000   \n50%            16.00000               144843.50000        2009.00000   \n75%            18.00000               180006.00000        2009.00000   \nmax            27.00000              9999999.00000        2010.00000   \n\n       new_vehicle_car_mileage  new_vehicle_MSRP  \ncount             677238.00000      677238.00000  \nmean                  24.87084       22452.65202  \nstd                    5.88610        5875.82912  \nmin                    0.00000           1.00000  \n25%                   22.00000       17950.00000  \n50%                   25.00000       21790.00000  \n75%                   28.00000       25705.00000  \nmax                   50.00000       45000.00000  ",
      "text/html": "<div>\n<style scoped>\n    .dataframe tbody tr th:only-of-type {\n        vertical-align: middle;\n    }\n\n    .dataframe tbody tr th {\n        vertical-align: top;\n    }\n\n    .dataframe thead th {\n        text-align: right;\n    }\n</style>\n<table border=\"1\" class=\"dataframe\">\n  <thead>\n    <tr style=\"text-align: right;\">\n      <th></th>\n      <th>vendor_id</th>\n      <th>area_code</th>\n      <th>invoice_id</th>\n      <th>disposal_facility_nmvtis_id</th>\n      <th>invoice_amount</th>\n      <th>trade_in_year</th>\n      <th>trade_in_mileage</th>\n      <th>trade_in_odometer_reading</th>\n      <th>new_vehicle_year</th>\n      <th>new_vehicle_car_mileage</th>\n      <th>new_vehicle_MSRP</th>\n    </tr>\n  </thead>\n  <tbody>\n    <tr>\n      <th>count</th>\n      <td>677238.00000</td>\n      <td>577273.00000</td>\n      <td>677238.00000</td>\n      <td>639573.00000</td>\n      <td>677238.00000</td>\n      <td>677238.00000</td>\n      <td>677238.00000</td>\n      <td>677238.00000</td>\n      <td>677238.00000</td>\n      <td>677238.00000</td>\n      <td>677238.00000</td>\n    </tr>\n    <tr>\n      <th>mean</th>\n      <td>9784.11374</td>\n      <td>3377648.70672</td>\n      <td>652645.56461</td>\n      <td>3377.35766</td>\n      <td>4209.88190</td>\n      <td>1995.21298</td>\n      <td>15.69843</td>\n      <td>160155.18124</td>\n      <td>2009.21912</td>\n      <td>24.87084</td>\n      <td>22452.65202</td>\n    </tr>\n    <tr>\n      <th>std</th>\n      <td>5900.13341</td>\n      <td>156320432.46229</td>\n      <td>296938.82981</td>\n      <td>1143.79112</td>\n      <td>453.81702</td>\n      <td>4.10580</td>\n      <td>2.23371</td>\n      <td>268353.46483</td>\n      <td>0.45130</td>\n      <td>5.88610</td>\n      <td>5875.82912</td>\n    </tr>\n    <tr>\n      <th>min</th>\n      <td>1.00000</td>\n      <td>-435.00000</td>\n      <td>10169.00000</td>\n      <td>360.00000</td>\n      <td>3500.00000</td>\n      <td>1984.00000</td>\n      <td>0.00000</td>\n      <td>0.00000</td>\n      <td>2007.00000</td>\n      <td>0.00000</td>\n      <td>1.00000</td>\n    </tr>\n    <tr>\n      <th>25%</th>\n      <td>4935.00000</td>\n      <td>408.00000</td>\n      <td>424194.25000</td>\n      <td>2426.00000</td>\n      <td>3500.00000</td>\n      <td>1993.00000</td>\n      <td>14.00000</td>\n      <td>113497.00000</td>\n      <td>2009.00000</td>\n      <td>22.00000</td>\n      <td>17950.00000</td>\n    </tr>\n    <tr>\n      <th>50%</th>\n      <td>8949.00000</td>\n      <td>616.00000</td>\n      <td>670809.00000</td>\n      <td>3424.00000</td>\n      <td>4500.00000</td>\n      <td>1996.00000</td>\n      <td>16.00000</td>\n      <td>144843.50000</td>\n      <td>2009.00000</td>\n      <td>25.00000</td>\n      <td>21790.00000</td>\n    </tr>\n    <tr>\n      <th>75%</th>\n      <td>14271.00000</td>\n      <td>804.00000</td>\n      <td>908151.75000</td>\n      <td>4282.00000</td>\n      <td>4500.00000</td>\n      <td>1998.00000</td>\n      <td>18.00000</td>\n      <td>180006.00000</td>\n      <td>2009.00000</td>\n      <td>28.00000</td>\n      <td>25705.00000</td>\n    </tr>\n    <tr>\n      <th>max</th>\n      <td>44833.00000</td>\n      <td>9312455210.00000</td>\n      <td>1143631.00000</td>\n      <td>7912.00000</td>\n      <td>4500.00000</td>\n      <td>2008.00000</td>\n      <td>27.00000</td>\n      <td>9999999.00000</td>\n      <td>2010.00000</td>\n      <td>50.00000</td>\n      <td>45000.00000</td>\n    </tr>\n  </tbody>\n</table>\n</div>"
     },
     "metadata": {},
     "execution_count": 7
    }
   ],
   "source": [
    "# show basic dataset stats\n",
    "edmunds_df.describe()"
   ]
  },
  {
   "cell_type": "code",
   "execution_count": 8,
   "metadata": {},
   "outputs": [
    {
     "output_type": "execute_result",
     "data": {
      "text/plain": "       invoice_amount  trade_in_year  trade_in_mileage  \\\ncount    677238.00000   677238.00000      677238.00000   \nmean       4209.88190     1995.21298          15.69843   \nstd         453.81702        4.10580           2.23371   \nmin        3500.00000     1984.00000           0.00000   \n25%        3500.00000     1993.00000          14.00000   \n50%        4500.00000     1996.00000          16.00000   \n75%        4500.00000     1998.00000          18.00000   \nmax        4500.00000     2008.00000          27.00000   \n\n       trade_in_odometer_reading  new_vehicle_year  new_vehicle_car_mileage  \\\ncount               677238.00000      677238.00000             677238.00000   \nmean                160155.18124        2009.21912                 24.87084   \nstd                 268353.46483           0.45130                  5.88610   \nmin                      0.00000        2007.00000                  0.00000   \n25%                 113497.00000        2009.00000                 22.00000   \n50%                 144843.50000        2009.00000                 25.00000   \n75%                 180006.00000        2009.00000                 28.00000   \nmax                9999999.00000        2010.00000                 50.00000   \n\n       new_vehicle_MSRP  \ncount      677238.00000  \nmean        22452.65202  \nstd          5875.82912  \nmin             1.00000  \n25%         17950.00000  \n50%         21790.00000  \n75%         25705.00000  \nmax         45000.00000  ",
      "text/html": "<div>\n<style scoped>\n    .dataframe tbody tr th:only-of-type {\n        vertical-align: middle;\n    }\n\n    .dataframe tbody tr th {\n        vertical-align: top;\n    }\n\n    .dataframe thead th {\n        text-align: right;\n    }\n</style>\n<table border=\"1\" class=\"dataframe\">\n  <thead>\n    <tr style=\"text-align: right;\">\n      <th></th>\n      <th>invoice_amount</th>\n      <th>trade_in_year</th>\n      <th>trade_in_mileage</th>\n      <th>trade_in_odometer_reading</th>\n      <th>new_vehicle_year</th>\n      <th>new_vehicle_car_mileage</th>\n      <th>new_vehicle_MSRP</th>\n    </tr>\n  </thead>\n  <tbody>\n    <tr>\n      <th>count</th>\n      <td>677238.00000</td>\n      <td>677238.00000</td>\n      <td>677238.00000</td>\n      <td>677238.00000</td>\n      <td>677238.00000</td>\n      <td>677238.00000</td>\n      <td>677238.00000</td>\n    </tr>\n    <tr>\n      <th>mean</th>\n      <td>4209.88190</td>\n      <td>1995.21298</td>\n      <td>15.69843</td>\n      <td>160155.18124</td>\n      <td>2009.21912</td>\n      <td>24.87084</td>\n      <td>22452.65202</td>\n    </tr>\n    <tr>\n      <th>std</th>\n      <td>453.81702</td>\n      <td>4.10580</td>\n      <td>2.23371</td>\n      <td>268353.46483</td>\n      <td>0.45130</td>\n      <td>5.88610</td>\n      <td>5875.82912</td>\n    </tr>\n    <tr>\n      <th>min</th>\n      <td>3500.00000</td>\n      <td>1984.00000</td>\n      <td>0.00000</td>\n      <td>0.00000</td>\n      <td>2007.00000</td>\n      <td>0.00000</td>\n      <td>1.00000</td>\n    </tr>\n    <tr>\n      <th>25%</th>\n      <td>3500.00000</td>\n      <td>1993.00000</td>\n      <td>14.00000</td>\n      <td>113497.00000</td>\n      <td>2009.00000</td>\n      <td>22.00000</td>\n      <td>17950.00000</td>\n    </tr>\n    <tr>\n      <th>50%</th>\n      <td>4500.00000</td>\n      <td>1996.00000</td>\n      <td>16.00000</td>\n      <td>144843.50000</td>\n      <td>2009.00000</td>\n      <td>25.00000</td>\n      <td>21790.00000</td>\n    </tr>\n    <tr>\n      <th>75%</th>\n      <td>4500.00000</td>\n      <td>1998.00000</td>\n      <td>18.00000</td>\n      <td>180006.00000</td>\n      <td>2009.00000</td>\n      <td>28.00000</td>\n      <td>25705.00000</td>\n    </tr>\n    <tr>\n      <th>max</th>\n      <td>4500.00000</td>\n      <td>2008.00000</td>\n      <td>27.00000</td>\n      <td>9999999.00000</td>\n      <td>2010.00000</td>\n      <td>50.00000</td>\n      <td>45000.00000</td>\n    </tr>\n  </tbody>\n</table>\n</div>"
     },
     "metadata": {},
     "execution_count": 8
    }
   ],
   "source": [
    "# let's remove some columns that aren't useful for the basic view\n",
    "edmunds_df_simple = edmunds_df.drop(['vendor_id', 'area_code', 'invoice_id', 'disposal_facility_nmvtis_id'], axis=1)\n",
    "edmunds_df_simple.describe()"
   ]
  },
  {
   "cell_type": "code",
   "execution_count": 36,
   "metadata": {},
   "outputs": [
    {
     "output_type": "execute_result",
     "data": {
      "text/plain": "       trade_in_mileage  new_vehicle_car_mileage\ncount      672040.00000             672040.00000\nmean           15.80893                 24.97105\nstd             1.81756                  5.73619\nmin             8.00000                 14.00000\n25%            15.00000                 22.00000\n50%            16.00000                 25.00000\n75%            18.00000                 28.00000\nmax            27.00000                 50.00000",
      "text/html": "<div>\n<style scoped>\n    .dataframe tbody tr th:only-of-type {\n        vertical-align: middle;\n    }\n\n    .dataframe tbody tr th {\n        vertical-align: top;\n    }\n\n    .dataframe thead th {\n        text-align: right;\n    }\n</style>\n<table border=\"1\" class=\"dataframe\">\n  <thead>\n    <tr style=\"text-align: right;\">\n      <th></th>\n      <th>trade_in_mileage</th>\n      <th>new_vehicle_car_mileage</th>\n    </tr>\n  </thead>\n  <tbody>\n    <tr>\n      <th>count</th>\n      <td>672040.00000</td>\n      <td>672040.00000</td>\n    </tr>\n    <tr>\n      <th>mean</th>\n      <td>15.80893</td>\n      <td>24.97105</td>\n    </tr>\n    <tr>\n      <th>std</th>\n      <td>1.81756</td>\n      <td>5.73619</td>\n    </tr>\n    <tr>\n      <th>min</th>\n      <td>8.00000</td>\n      <td>14.00000</td>\n    </tr>\n    <tr>\n      <th>25%</th>\n      <td>15.00000</td>\n      <td>22.00000</td>\n    </tr>\n    <tr>\n      <th>50%</th>\n      <td>16.00000</td>\n      <td>25.00000</td>\n    </tr>\n    <tr>\n      <th>75%</th>\n      <td>18.00000</td>\n      <td>28.00000</td>\n    </tr>\n    <tr>\n      <th>max</th>\n      <td>27.00000</td>\n      <td>50.00000</td>\n    </tr>\n  </tbody>\n</table>\n</div>"
     },
     "metadata": {},
     "execution_count": 36
    }
   ],
   "source": [
    "# now taking a look at mileage improvements\n",
    "mileage_df = edmunds_df[['trade_in_mileage', 'new_vehicle_car_mileage']]\n",
    "mileage_df.head()\n",
    "# remove zeros from the dataset\n",
    "non_zeros = (mileage_df != 0).all(axis=1)\n",
    "mileage_df_new = mileage_df.loc[non_zeros]\n",
    "mileage_df_new.describe()"
   ]
  },
  {
   "cell_type": "code",
   "execution_count": null,
   "metadata": {},
   "outputs": [],
   "source": [
    "# we can see that the minimum mileage on the new cars increased to the 25th percentile of the old cars and the max nearly doubled!\n",
    "# an average increase from ~16 to ~25 is fantastic"
   ]
  },
  {
   "cell_type": "code",
   "execution_count": 41,
   "metadata": {},
   "outputs": [],
   "source": [
    "# now I'm going to pull population data into the main CARS dataset to do some per-capita calculations\n",
    "cars_df = edmunds_df[['city',\n",
    "'state',\n",
    "'ZIP',\n",
    "'invoice_date',\n",
    "'sale_date',\n",
    "'invoice_amount',\n",
    "'trade_in_make',\n",
    "'trade_in_model',\n",
    "'trade_in_year',\n",
    "'trade_in_mileage',\n",
    "'trade_in_title_state',\n",
    "'trade_in_registration_state',\n",
    "'trade_in_registration_start',\n",
    "'trade_in_registration_end',\n",
    "'trade_in_odometer_reading',\n",
    "'new_vehicle_make',\n",
    "'new_vehicle_model',\n",
    "'new_vehicle_year',\n",
    "'new_vehicle_car_mileage',\n",
    "'new_vehicle_MSRP']]\n",
    "pop_df = population_df\n",
    "cars_df = cars_df.merge(pop_df, how='left', left_on='state', right_on='Abbreviation')"
   ]
  },
  {
   "cell_type": "code",
   "execution_count": null,
   "metadata": {},
   "outputs": [],
   "source": []
  },
  {
   "cell_type": "code",
   "execution_count": 43,
   "metadata": {},
   "outputs": [
    {
     "output_type": "execute_result",
     "data": {
      "text/plain": "       invoice_amount  trade_in_year  trade_in_mileage  \\\ncount    677238.00000   677238.00000      677238.00000   \nmean       4209.88190     1995.21298          15.69843   \nstd         453.81702        4.10580           2.23371   \nmin        3500.00000     1984.00000           0.00000   \n25%        3500.00000     1993.00000          14.00000   \n50%        4500.00000     1996.00000          16.00000   \n75%        4500.00000     1998.00000          18.00000   \nmax        4500.00000     2008.00000          27.00000   \n\n       trade_in_odometer_reading  new_vehicle_year  new_vehicle_car_mileage  \\\ncount               677238.00000      677238.00000             677238.00000   \nmean                160155.18124        2009.21912                 24.87084   \nstd                 268353.46483           0.45130                  5.88610   \nmin                      0.00000        2007.00000                  0.00000   \n25%                 113497.00000        2009.00000                 22.00000   \n50%                 144843.50000        2009.00000                 25.00000   \n75%                 180006.00000        2009.00000                 28.00000   \nmax                9999999.00000        2010.00000                 50.00000   \n\n       new_vehicle_MSRP  Population(Thousands)  \ncount      677238.00000           676560.00000  \nmean        22452.65202            12827.14586  \nstd          5875.82912            10454.13941  \nmin             1.00000              532.66800  \n25%         17950.00000             5627.96700  \n50%         21790.00000             9222.41400  \n75%         25705.00000            18328.34000  \nmax         45000.00000            36756.66600  ",
      "text/html": "<div>\n<style scoped>\n    .dataframe tbody tr th:only-of-type {\n        vertical-align: middle;\n    }\n\n    .dataframe tbody tr th {\n        vertical-align: top;\n    }\n\n    .dataframe thead th {\n        text-align: right;\n    }\n</style>\n<table border=\"1\" class=\"dataframe\">\n  <thead>\n    <tr style=\"text-align: right;\">\n      <th></th>\n      <th>invoice_amount</th>\n      <th>trade_in_year</th>\n      <th>trade_in_mileage</th>\n      <th>trade_in_odometer_reading</th>\n      <th>new_vehicle_year</th>\n      <th>new_vehicle_car_mileage</th>\n      <th>new_vehicle_MSRP</th>\n      <th>Population(Thousands)</th>\n    </tr>\n  </thead>\n  <tbody>\n    <tr>\n      <th>count</th>\n      <td>677238.00000</td>\n      <td>677238.00000</td>\n      <td>677238.00000</td>\n      <td>677238.00000</td>\n      <td>677238.00000</td>\n      <td>677238.00000</td>\n      <td>677238.00000</td>\n      <td>676560.00000</td>\n    </tr>\n    <tr>\n      <th>mean</th>\n      <td>4209.88190</td>\n      <td>1995.21298</td>\n      <td>15.69843</td>\n      <td>160155.18124</td>\n      <td>2009.21912</td>\n      <td>24.87084</td>\n      <td>22452.65202</td>\n      <td>12827.14586</td>\n    </tr>\n    <tr>\n      <th>std</th>\n      <td>453.81702</td>\n      <td>4.10580</td>\n      <td>2.23371</td>\n      <td>268353.46483</td>\n      <td>0.45130</td>\n      <td>5.88610</td>\n      <td>5875.82912</td>\n      <td>10454.13941</td>\n    </tr>\n    <tr>\n      <th>min</th>\n      <td>3500.00000</td>\n      <td>1984.00000</td>\n      <td>0.00000</td>\n      <td>0.00000</td>\n      <td>2007.00000</td>\n      <td>0.00000</td>\n      <td>1.00000</td>\n      <td>532.66800</td>\n    </tr>\n    <tr>\n      <th>25%</th>\n      <td>3500.00000</td>\n      <td>1993.00000</td>\n      <td>14.00000</td>\n      <td>113497.00000</td>\n      <td>2009.00000</td>\n      <td>22.00000</td>\n      <td>17950.00000</td>\n      <td>5627.96700</td>\n    </tr>\n    <tr>\n      <th>50%</th>\n      <td>4500.00000</td>\n      <td>1996.00000</td>\n      <td>16.00000</td>\n      <td>144843.50000</td>\n      <td>2009.00000</td>\n      <td>25.00000</td>\n      <td>21790.00000</td>\n      <td>9222.41400</td>\n    </tr>\n    <tr>\n      <th>75%</th>\n      <td>4500.00000</td>\n      <td>1998.00000</td>\n      <td>18.00000</td>\n      <td>180006.00000</td>\n      <td>2009.00000</td>\n      <td>28.00000</td>\n      <td>25705.00000</td>\n      <td>18328.34000</td>\n    </tr>\n    <tr>\n      <th>max</th>\n      <td>4500.00000</td>\n      <td>2008.00000</td>\n      <td>27.00000</td>\n      <td>9999999.00000</td>\n      <td>2010.00000</td>\n      <td>50.00000</td>\n      <td>45000.00000</td>\n      <td>36756.66600</td>\n    </tr>\n  </tbody>\n</table>\n</div>"
     },
     "metadata": {},
     "execution_count": 43
    }
   ],
   "source": [
    "cars_df.describe()"
   ]
  },
  {
   "cell_type": "code",
   "execution_count": 45,
   "metadata": {},
   "outputs": [
    {
     "output_type": "execute_result",
     "data": {
      "text/plain": "       invoice_amount  trade_in_year  trade_in_mileage  \\\ncount    677238.00000   677238.00000      677238.00000   \nmean       4209.88190     1995.21298          15.69843   \nstd         453.81702        4.10580           2.23371   \nmin        3500.00000     1984.00000           0.00000   \n25%        3500.00000     1993.00000          14.00000   \n50%        4500.00000     1996.00000          16.00000   \n75%        4500.00000     1998.00000          18.00000   \nmax        4500.00000     2008.00000          27.00000   \n\n       trade_in_odometer_reading  new_vehicle_year  new_vehicle_car_mileage  \\\ncount               677238.00000      677238.00000             677238.00000   \nmean                160155.18124        2009.21912                 24.87084   \nstd                 268353.46483           0.45130                  5.88610   \nmin                      0.00000        2007.00000                  0.00000   \n25%                 113497.00000        2009.00000                 22.00000   \n50%                 144843.50000        2009.00000                 25.00000   \n75%                 180006.00000        2009.00000                 28.00000   \nmax                9999999.00000        2010.00000                 50.00000   \n\n       new_vehicle_MSRP  Population(Thousands)  years_active  \ncount      677238.00000           676560.00000  677238.00000  \nmean        22452.65202            12827.14586      14.78702  \nstd          5875.82912            10454.13941       4.10580  \nmin             1.00000              532.66800       2.00000  \n25%         17950.00000             5627.96700      12.00000  \n50%         21790.00000             9222.41400      14.00000  \n75%         25705.00000            18328.34000      17.00000  \nmax         45000.00000            36756.66600      26.00000  ",
      "text/html": "<div>\n<style scoped>\n    .dataframe tbody tr th:only-of-type {\n        vertical-align: middle;\n    }\n\n    .dataframe tbody tr th {\n        vertical-align: top;\n    }\n\n    .dataframe thead th {\n        text-align: right;\n    }\n</style>\n<table border=\"1\" class=\"dataframe\">\n  <thead>\n    <tr style=\"text-align: right;\">\n      <th></th>\n      <th>invoice_amount</th>\n      <th>trade_in_year</th>\n      <th>trade_in_mileage</th>\n      <th>trade_in_odometer_reading</th>\n      <th>new_vehicle_year</th>\n      <th>new_vehicle_car_mileage</th>\n      <th>new_vehicle_MSRP</th>\n      <th>Population(Thousands)</th>\n      <th>years_active</th>\n    </tr>\n  </thead>\n  <tbody>\n    <tr>\n      <th>count</th>\n      <td>677238.00000</td>\n      <td>677238.00000</td>\n      <td>677238.00000</td>\n      <td>677238.00000</td>\n      <td>677238.00000</td>\n      <td>677238.00000</td>\n      <td>677238.00000</td>\n      <td>676560.00000</td>\n      <td>677238.00000</td>\n    </tr>\n    <tr>\n      <th>mean</th>\n      <td>4209.88190</td>\n      <td>1995.21298</td>\n      <td>15.69843</td>\n      <td>160155.18124</td>\n      <td>2009.21912</td>\n      <td>24.87084</td>\n      <td>22452.65202</td>\n      <td>12827.14586</td>\n      <td>14.78702</td>\n    </tr>\n    <tr>\n      <th>std</th>\n      <td>453.81702</td>\n      <td>4.10580</td>\n      <td>2.23371</td>\n      <td>268353.46483</td>\n      <td>0.45130</td>\n      <td>5.88610</td>\n      <td>5875.82912</td>\n      <td>10454.13941</td>\n      <td>4.10580</td>\n    </tr>\n    <tr>\n      <th>min</th>\n      <td>3500.00000</td>\n      <td>1984.00000</td>\n      <td>0.00000</td>\n      <td>0.00000</td>\n      <td>2007.00000</td>\n      <td>0.00000</td>\n      <td>1.00000</td>\n      <td>532.66800</td>\n      <td>2.00000</td>\n    </tr>\n    <tr>\n      <th>25%</th>\n      <td>3500.00000</td>\n      <td>1993.00000</td>\n      <td>14.00000</td>\n      <td>113497.00000</td>\n      <td>2009.00000</td>\n      <td>22.00000</td>\n      <td>17950.00000</td>\n      <td>5627.96700</td>\n      <td>12.00000</td>\n    </tr>\n    <tr>\n      <th>50%</th>\n      <td>4500.00000</td>\n      <td>1996.00000</td>\n      <td>16.00000</td>\n      <td>144843.50000</td>\n      <td>2009.00000</td>\n      <td>25.00000</td>\n      <td>21790.00000</td>\n      <td>9222.41400</td>\n      <td>14.00000</td>\n    </tr>\n    <tr>\n      <th>75%</th>\n      <td>4500.00000</td>\n      <td>1998.00000</td>\n      <td>18.00000</td>\n      <td>180006.00000</td>\n      <td>2009.00000</td>\n      <td>28.00000</td>\n      <td>25705.00000</td>\n      <td>18328.34000</td>\n      <td>17.00000</td>\n    </tr>\n    <tr>\n      <th>max</th>\n      <td>4500.00000</td>\n      <td>2008.00000</td>\n      <td>27.00000</td>\n      <td>9999999.00000</td>\n      <td>2010.00000</td>\n      <td>50.00000</td>\n      <td>45000.00000</td>\n      <td>36756.66600</td>\n      <td>26.00000</td>\n    </tr>\n  </tbody>\n</table>\n</div>"
     },
     "metadata": {},
     "execution_count": 45
    }
   ],
   "source": [
    "# it would be nice to know for each trade-in the improved mileage\n",
    "# adding a column for years driven on traded in cars\n",
    "cars_df['years_active'] = 2010 - cars_df['trade_in_year']\n",
    "cars_df.describe()"
   ]
  },
  {
   "cell_type": "code",
   "execution_count": 52,
   "metadata": {},
   "outputs": [
    {
     "output_type": "execute_result",
     "data": {
      "text/plain": "   trade_in_year  trade_in_mileage  years_active  miles_per_year\n0           1994                17            16     10375.00000\n1           1997                18            13     17809.15385\n2           1999                13            11     11877.09091\n3           1999                13            11     16248.45455\n4           2000                12            10      9310.50000",
      "text/html": "<div>\n<style scoped>\n    .dataframe tbody tr th:only-of-type {\n        vertical-align: middle;\n    }\n\n    .dataframe tbody tr th {\n        vertical-align: top;\n    }\n\n    .dataframe thead th {\n        text-align: right;\n    }\n</style>\n<table border=\"1\" class=\"dataframe\">\n  <thead>\n    <tr style=\"text-align: right;\">\n      <th></th>\n      <th>trade_in_year</th>\n      <th>trade_in_mileage</th>\n      <th>years_active</th>\n      <th>miles_per_year</th>\n    </tr>\n  </thead>\n  <tbody>\n    <tr>\n      <th>0</th>\n      <td>1994</td>\n      <td>17</td>\n      <td>16</td>\n      <td>10375.00000</td>\n    </tr>\n    <tr>\n      <th>1</th>\n      <td>1997</td>\n      <td>18</td>\n      <td>13</td>\n      <td>17809.15385</td>\n    </tr>\n    <tr>\n      <th>2</th>\n      <td>1999</td>\n      <td>13</td>\n      <td>11</td>\n      <td>11877.09091</td>\n    </tr>\n    <tr>\n      <th>3</th>\n      <td>1999</td>\n      <td>13</td>\n      <td>11</td>\n      <td>16248.45455</td>\n    </tr>\n    <tr>\n      <th>4</th>\n      <td>2000</td>\n      <td>12</td>\n      <td>10</td>\n      <td>9310.50000</td>\n    </tr>\n  </tbody>\n</table>\n</div>"
     },
     "metadata": {},
     "execution_count": 52
    }
   ],
   "source": [
    "# now to see miles per year on old mileage\n",
    "cars_df['miles_per_year'] = cars_df['trade_in_odometer_reading'] / cars_df['years_active']\n",
    "cars_df[['trade_in_year', 'trade_in_mileage', 'years_active', 'miles_per_year']].head()"
   ]
  },
  {
   "cell_type": "code",
   "execution_count": 54,
   "metadata": {},
   "outputs": [
    {
     "output_type": "execute_result",
     "data": {
      "text/plain": "   trade_in_year  trade_in_mileage  years_active  miles_per_year  \\\n0           1994                17            16     10375.00000   \n1           1997                18            13     17809.15385   \n2           1999                13            11     11877.09091   \n3           1999                13            11     16248.45455   \n4           2000                12            10      9310.50000   \n\n   gallons_per_year  \n0         610.29412  \n1         989.39744  \n2         913.62238  \n3        1249.88112  \n4         775.87500  ",
      "text/html": "<div>\n<style scoped>\n    .dataframe tbody tr th:only-of-type {\n        vertical-align: middle;\n    }\n\n    .dataframe tbody tr th {\n        vertical-align: top;\n    }\n\n    .dataframe thead th {\n        text-align: right;\n    }\n</style>\n<table border=\"1\" class=\"dataframe\">\n  <thead>\n    <tr style=\"text-align: right;\">\n      <th></th>\n      <th>trade_in_year</th>\n      <th>trade_in_mileage</th>\n      <th>years_active</th>\n      <th>miles_per_year</th>\n      <th>gallons_per_year</th>\n    </tr>\n  </thead>\n  <tbody>\n    <tr>\n      <th>0</th>\n      <td>1994</td>\n      <td>17</td>\n      <td>16</td>\n      <td>10375.00000</td>\n      <td>610.29412</td>\n    </tr>\n    <tr>\n      <th>1</th>\n      <td>1997</td>\n      <td>18</td>\n      <td>13</td>\n      <td>17809.15385</td>\n      <td>989.39744</td>\n    </tr>\n    <tr>\n      <th>2</th>\n      <td>1999</td>\n      <td>13</td>\n      <td>11</td>\n      <td>11877.09091</td>\n      <td>913.62238</td>\n    </tr>\n    <tr>\n      <th>3</th>\n      <td>1999</td>\n      <td>13</td>\n      <td>11</td>\n      <td>16248.45455</td>\n      <td>1249.88112</td>\n    </tr>\n    <tr>\n      <th>4</th>\n      <td>2000</td>\n      <td>12</td>\n      <td>10</td>\n      <td>9310.50000</td>\n      <td>775.87500</td>\n    </tr>\n  </tbody>\n</table>\n</div>"
     },
     "metadata": {},
     "execution_count": 54
    }
   ],
   "source": [
    "# let's also take a look at gallons per year per car as a baseline to compare against\n",
    "cars_df['gallons_per_year'] = cars_df['miles_per_year'] / cars_df['trade_in_mileage']\n",
    "cars_df[['trade_in_year', 'trade_in_mileage', 'years_active', 'miles_per_year', 'gallons_per_year']].head()"
   ]
  },
  {
   "cell_type": "code",
   "execution_count": 55,
   "metadata": {},
   "outputs": [],
   "source": [
    "# let's see the improvement by using the same miles per year against the new cars' mileage (again removing zeros)\n",
    "cars_df['gallons_per_year_improved'] = cars_df['miles_per_year'] / cars_df['new_vehicle_car_mileage']"
   ]
  },
  {
   "cell_type": "code",
   "execution_count": 58,
   "metadata": {},
   "outputs": [
    {
     "output_type": "execute_result",
     "data": {
      "text/plain": "       trade_in_year  trade_in_mileage  years_active  miles_per_year  \\\ncount   670821.00000      670821.00000  670821.00000    670821.00000   \nmean      1995.22324          15.80908      14.77676     11533.38426   \nstd          4.09960           1.81742       4.09960     18683.51071   \nmin       1984.00000           8.00000       2.00000         0.03846   \n25%       1993.00000          15.00000      12.00000      7844.70588   \n50%       1996.00000          16.00000      14.00000     10429.06667   \n75%       1998.00000          18.00000      17.00000     13316.00000   \nmax       2008.00000          27.00000      26.00000   1428571.28571   \n\n       gallons_per_year  gallons_per_year_improved  \ncount      670821.00000               670821.00000  \nmean          739.73591                  484.75316  \nstd          1224.62997                  826.00364  \nmin             0.00222                    0.00095  \n25%           491.74571                  307.84430  \n50%           660.06633                  423.14685  \n75%           856.08333                  563.09841  \nmax         89285.70536                68027.20408  ",
      "text/html": "<div>\n<style scoped>\n    .dataframe tbody tr th:only-of-type {\n        vertical-align: middle;\n    }\n\n    .dataframe tbody tr th {\n        vertical-align: top;\n    }\n\n    .dataframe thead th {\n        text-align: right;\n    }\n</style>\n<table border=\"1\" class=\"dataframe\">\n  <thead>\n    <tr style=\"text-align: right;\">\n      <th></th>\n      <th>trade_in_year</th>\n      <th>trade_in_mileage</th>\n      <th>years_active</th>\n      <th>miles_per_year</th>\n      <th>gallons_per_year</th>\n      <th>gallons_per_year_improved</th>\n    </tr>\n  </thead>\n  <tbody>\n    <tr>\n      <th>count</th>\n      <td>670821.00000</td>\n      <td>670821.00000</td>\n      <td>670821.00000</td>\n      <td>670821.00000</td>\n      <td>670821.00000</td>\n      <td>670821.00000</td>\n    </tr>\n    <tr>\n      <th>mean</th>\n      <td>1995.22324</td>\n      <td>15.80908</td>\n      <td>14.77676</td>\n      <td>11533.38426</td>\n      <td>739.73591</td>\n      <td>484.75316</td>\n    </tr>\n    <tr>\n      <th>std</th>\n      <td>4.09960</td>\n      <td>1.81742</td>\n      <td>4.09960</td>\n      <td>18683.51071</td>\n      <td>1224.62997</td>\n      <td>826.00364</td>\n    </tr>\n    <tr>\n      <th>min</th>\n      <td>1984.00000</td>\n      <td>8.00000</td>\n      <td>2.00000</td>\n      <td>0.03846</td>\n      <td>0.00222</td>\n      <td>0.00095</td>\n    </tr>\n    <tr>\n      <th>25%</th>\n      <td>1993.00000</td>\n      <td>15.00000</td>\n      <td>12.00000</td>\n      <td>7844.70588</td>\n      <td>491.74571</td>\n      <td>307.84430</td>\n    </tr>\n    <tr>\n      <th>50%</th>\n      <td>1996.00000</td>\n      <td>16.00000</td>\n      <td>14.00000</td>\n      <td>10429.06667</td>\n      <td>660.06633</td>\n      <td>423.14685</td>\n    </tr>\n    <tr>\n      <th>75%</th>\n      <td>1998.00000</td>\n      <td>18.00000</td>\n      <td>17.00000</td>\n      <td>13316.00000</td>\n      <td>856.08333</td>\n      <td>563.09841</td>\n    </tr>\n    <tr>\n      <th>max</th>\n      <td>2008.00000</td>\n      <td>27.00000</td>\n      <td>26.00000</td>\n      <td>1428571.28571</td>\n      <td>89285.70536</td>\n      <td>68027.20408</td>\n    </tr>\n  </tbody>\n</table>\n</div>"
     },
     "metadata": {},
     "execution_count": 58
    }
   ],
   "source": [
    "non_zeros = (cars_df != 0).all(axis=1)\n",
    "cars_df_new = cars_df.loc[non_zeros]\n",
    "cars_df_new[['trade_in_year', 'trade_in_mileage', 'years_active', 'miles_per_year', 'gallons_per_year', 'gallons_per_year_improved']].describe()"
   ]
  },
  {
   "cell_type": "code",
   "execution_count": 59,
   "metadata": {},
   "outputs": [
    {
     "output_type": "execute_result",
     "data": {
      "text/plain": "       trade_in_year  trade_in_mileage  years_active  miles_per_year  \\\ncount   670821.00000      670821.00000  670821.00000    670821.00000   \nmean      1995.22324          15.80908      14.77676     11533.38426   \nstd          4.09960           1.81742       4.09960     18683.51071   \nmin       1984.00000           8.00000       2.00000         0.03846   \n25%       1993.00000          15.00000      12.00000      7844.70588   \n50%       1996.00000          16.00000      14.00000     10429.06667   \n75%       1998.00000          18.00000      17.00000     13316.00000   \nmax       2008.00000          27.00000      26.00000   1428571.28571   \n\n       gallons_per_year  gallons_per_year_improved   gpy_change  \ncount      670821.00000               670821.00000 670821.00000  \nmean          739.73591                  484.75316     -0.34279  \nstd          1224.62997                  826.00364      0.12920  \nmin             0.00222                    0.00095     -0.80000  \n25%           491.74571                  307.84430     -0.42308  \n50%           660.06633                  423.14685     -0.35714  \n75%           856.08333                  563.09841     -0.25000  \nmax         89285.70536                68027.20408      0.33333  ",
      "text/html": "<div>\n<style scoped>\n    .dataframe tbody tr th:only-of-type {\n        vertical-align: middle;\n    }\n\n    .dataframe tbody tr th {\n        vertical-align: top;\n    }\n\n    .dataframe thead th {\n        text-align: right;\n    }\n</style>\n<table border=\"1\" class=\"dataframe\">\n  <thead>\n    <tr style=\"text-align: right;\">\n      <th></th>\n      <th>trade_in_year</th>\n      <th>trade_in_mileage</th>\n      <th>years_active</th>\n      <th>miles_per_year</th>\n      <th>gallons_per_year</th>\n      <th>gallons_per_year_improved</th>\n      <th>gpy_change</th>\n    </tr>\n  </thead>\n  <tbody>\n    <tr>\n      <th>count</th>\n      <td>670821.00000</td>\n      <td>670821.00000</td>\n      <td>670821.00000</td>\n      <td>670821.00000</td>\n      <td>670821.00000</td>\n      <td>670821.00000</td>\n      <td>670821.00000</td>\n    </tr>\n    <tr>\n      <th>mean</th>\n      <td>1995.22324</td>\n      <td>15.80908</td>\n      <td>14.77676</td>\n      <td>11533.38426</td>\n      <td>739.73591</td>\n      <td>484.75316</td>\n      <td>-0.34279</td>\n    </tr>\n    <tr>\n      <th>std</th>\n      <td>4.09960</td>\n      <td>1.81742</td>\n      <td>4.09960</td>\n      <td>18683.51071</td>\n      <td>1224.62997</td>\n      <td>826.00364</td>\n      <td>0.12920</td>\n    </tr>\n    <tr>\n      <th>min</th>\n      <td>1984.00000</td>\n      <td>8.00000</td>\n      <td>2.00000</td>\n      <td>0.03846</td>\n      <td>0.00222</td>\n      <td>0.00095</td>\n      <td>-0.80000</td>\n    </tr>\n    <tr>\n      <th>25%</th>\n      <td>1993.00000</td>\n      <td>15.00000</td>\n      <td>12.00000</td>\n      <td>7844.70588</td>\n      <td>491.74571</td>\n      <td>307.84430</td>\n      <td>-0.42308</td>\n    </tr>\n    <tr>\n      <th>50%</th>\n      <td>1996.00000</td>\n      <td>16.00000</td>\n      <td>14.00000</td>\n      <td>10429.06667</td>\n      <td>660.06633</td>\n      <td>423.14685</td>\n      <td>-0.35714</td>\n    </tr>\n    <tr>\n      <th>75%</th>\n      <td>1998.00000</td>\n      <td>18.00000</td>\n      <td>17.00000</td>\n      <td>13316.00000</td>\n      <td>856.08333</td>\n      <td>563.09841</td>\n      <td>-0.25000</td>\n    </tr>\n    <tr>\n      <th>max</th>\n      <td>2008.00000</td>\n      <td>27.00000</td>\n      <td>26.00000</td>\n      <td>1428571.28571</td>\n      <td>89285.70536</td>\n      <td>68027.20408</td>\n      <td>0.33333</td>\n    </tr>\n  </tbody>\n</table>\n</div>"
     },
     "metadata": {},
     "execution_count": 59
    }
   ],
   "source": [
    "# adding an percentage change column as well\n",
    "cars_df_new['gpy_change'] = (cars_df['gallons_per_year_improved'] - cars_df['gallons_per_year']) / cars_df['gallons_per_year']\n",
    "cars_df_new[['trade_in_year', 'trade_in_mileage', 'years_active', 'miles_per_year', 'gallons_per_year', 'gallons_per_year_improved', 'gpy_change']].describe()"
   ]
  },
  {
   "cell_type": "code",
   "execution_count": null,
   "metadata": {},
   "outputs": [],
   "source": []
  }
 ]
}